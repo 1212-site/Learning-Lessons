{
  "nbformat": 4,
  "nbformat_minor": 0,
  "metadata": {
    "colab": {
      "provenance": [],
      "authorship_tag": "ABX9TyNYlsw+FkrQPi40oJU+F4L2",
      "include_colab_link": true
    },
    "kernelspec": {
      "name": "python3",
      "display_name": "Python 3"
    },
    "language_info": {
      "name": "python"
    }
  },
  "cells": [
    {
      "cell_type": "markdown",
      "metadata": {
        "id": "view-in-github",
        "colab_type": "text"
      },
      "source": [
        "<a href=\"https://colab.research.google.com/github/1212-site/Python-Fundamentals/blob/main/2_Function.ipynb\" target=\"_parent\"><img src=\"https://colab.research.google.com/assets/colab-badge.svg\" alt=\"Open In Colab\"/></a>"
      ]
    },
    {
      "cell_type": "markdown",
      "source": [
        "### **Hi, buddies!** (˶˃ ᵕ ˂˶) .ᐟ.ᐟ\n",
        "Welcome to the world of **Python programming**! Get ready to embark on an exciting adventure filled with creativity. So, prepare to create, experiment, and explore the amazing capabilities of Python! This time, we will discuss **Function in Python**. Let’s start this adventure and create something amazing!"
      ],
      "metadata": {
        "id": "9lJA2VRJ4WAf"
      }
    },
    {
      "cell_type": "markdown",
      "source": [
        "***Function in Python*** --> A function is a block of code designed to perform a specific task. Function can accept inputs (arguments) and return ouputs (values)."
      ],
      "metadata": {
        "id": "fVKDjFsC4ghp"
      }
    },
    {
      "cell_type": "code",
      "execution_count": 14,
      "metadata": {
        "colab": {
          "base_uri": "https://localhost:8080/"
        },
        "id": "2IBdxUbV2y6L",
        "outputId": "a238d33a-b64d-49bb-8858-b9f9e230d9ec"
      },
      "outputs": [
        {
          "output_type": "stream",
          "name": "stdout",
          "text": [
            "Hello, world!\n"
          ]
        }
      ],
      "source": [
        "# Defining a Function\n",
        "def greet():\n",
        "  print(\"Hello, world!\")\n",
        "\n",
        "# Calling a Function\n",
        "greet()"
      ]
    },
    {
      "cell_type": "code",
      "source": [
        "# Funtion with Parameters\n",
        "def greet_person(name):\n",
        "  print(f\"Hello, {name}!\")\n",
        "\n",
        "# Calling the function\n",
        "greet_person(\"Bambang\")"
      ],
      "metadata": {
        "colab": {
          "base_uri": "https://localhost:8080/"
        },
        "id": "L-rl-34548ZL",
        "outputId": "58e231ed-05e5-4d5e-e9c9-02a55dce7cda"
      },
      "execution_count": 15,
      "outputs": [
        {
          "output_type": "stream",
          "name": "stdout",
          "text": [
            "Hello, Bambang!\n"
          ]
        }
      ]
    },
    {
      "cell_type": "code",
      "source": [
        "# Function with Return Value\n",
        "def add(a, b):\n",
        "  return a + b\n",
        "\n",
        "# Calling the function\n",
        "result = add(5, 3)\n",
        "print(result)"
      ],
      "metadata": {
        "colab": {
          "base_uri": "https://localhost:8080/"
        },
        "id": "sXBetbrv5XI2",
        "outputId": "39f649d8-1af1-4530-cf0f-079c2c186622"
      },
      "execution_count": 16,
      "outputs": [
        {
          "output_type": "stream",
          "name": "stdout",
          "text": [
            "8\n"
          ]
        }
      ]
    },
    {
      "cell_type": "code",
      "source": [
        "# Funtion with Default Values\n",
        "def greet(name=\"World\"):\n",
        "  print(f\"Hello, {name}!\")\n",
        "\n",
        "# Calling the function\n",
        "greet()\n",
        "greet(\"Bambang\")"
      ],
      "metadata": {
        "colab": {
          "base_uri": "https://localhost:8080/"
        },
        "id": "D5YHe8XQ5qfF",
        "outputId": "1a4eed98-6e96-475b-b28b-981309d42e98"
      },
      "execution_count": 17,
      "outputs": [
        {
          "output_type": "stream",
          "name": "stdout",
          "text": [
            "Hello, World!\n",
            "Hello, Bambang!\n"
          ]
        }
      ]
    },
    {
      "cell_type": "code",
      "source": [
        "# Using multiple parameters\n",
        "def describe_pet(animal_type, pet_name):\n",
        "  print(f\"I have a {animal_type} named {pet_name}.\")\n",
        "\n",
        "# Calling the function\n",
        "describe_pet(\"Cat\", \"Miso\")"
      ],
      "metadata": {
        "colab": {
          "base_uri": "https://localhost:8080/"
        },
        "id": "krJi63ai6OVs",
        "outputId": "c4c5b19d-fdd8-42d7-a210-f59b73b87483"
      },
      "execution_count": 18,
      "outputs": [
        {
          "output_type": "stream",
          "name": "stdout",
          "text": [
            "I have a Cat named Miso.\n"
          ]
        }
      ]
    },
    {
      "cell_type": "code",
      "source": [
        "# Variable-Length Arguments (*args)\n",
        "def calculate_sum(*args):\n",
        "  return sum(args)\n",
        "\n",
        "# Calling the function\n",
        "result = calculate_sum(1, 2, 3, 4, 5)\n",
        "print(result)"
      ],
      "metadata": {
        "colab": {
          "base_uri": "https://localhost:8080/"
        },
        "id": "S9MO-g9k7MT2",
        "outputId": "357010e5-e60b-4bb0-d6db-64673f4ed653"
      },
      "execution_count": 19,
      "outputs": [
        {
          "output_type": "stream",
          "name": "stdout",
          "text": [
            "15\n"
          ]
        }
      ]
    },
    {
      "cell_type": "code",
      "source": [
        "# Keyword Arguments (**kwargs)\n",
        "def print_info(**kwargs):\n",
        "  for key, value in kwargs.items():\n",
        "    print(f\"{key}: {value}\")\n",
        "\n",
        "# Calling the function\n",
        "print_info(name=\"Bambang\", age=30, city=\"Indonesia\")"
      ],
      "metadata": {
        "colab": {
          "base_uri": "https://localhost:8080/"
        },
        "id": "DpLlzfH27h7z",
        "outputId": "55320c05-7713-4d52-c0d2-e02ac3cff3ae"
      },
      "execution_count": 20,
      "outputs": [
        {
          "output_type": "stream",
          "name": "stdout",
          "text": [
            "name: Bambang\n",
            "age: 30\n",
            "city: Indonesia\n"
          ]
        }
      ]
    },
    {
      "cell_type": "code",
      "source": [
        "# Combining *args and **kwargs\n",
        "def show_info(*args, **kwargs):\n",
        "  print(\"Arguments: \", args)\n",
        "  print(\"Keyword Arguments: \", kwargs)\n",
        "\n",
        "show_info(1, 2, 3, name=\"Bambang\", age=30)"
      ],
      "metadata": {
        "colab": {
          "base_uri": "https://localhost:8080/"
        },
        "id": "GFqQVZHg7_cJ",
        "outputId": "0c497823-bdb4-4b83-bbf4-fd9bd534179a"
      },
      "execution_count": 21,
      "outputs": [
        {
          "output_type": "stream",
          "name": "stdout",
          "text": [
            "Arguments:  (1, 2, 3)\n",
            "Keyword Arguments:  {'name': 'Bambang', 'age': 30}\n"
          ]
        }
      ]
    }
  ]
}