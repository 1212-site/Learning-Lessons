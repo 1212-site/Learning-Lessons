{
  "nbformat": 4,
  "nbformat_minor": 0,
  "metadata": {
    "colab": {
      "provenance": [],
      "authorship_tag": "ABX9TyNcoKO4xY1Dp35DtOFdUHBm",
      "include_colab_link": true
    },
    "kernelspec": {
      "name": "python3",
      "display_name": "Python 3"
    },
    "language_info": {
      "name": "python"
    }
  },
  "cells": [
    {
      "cell_type": "markdown",
      "metadata": {
        "id": "view-in-github",
        "colab_type": "text"
      },
      "source": [
        "<a href=\"https://colab.research.google.com/github/1212-site/Python-Fundamentals/blob/main/4_Control_Flow.ipynb\" target=\"_parent\"><img src=\"https://colab.research.google.com/assets/colab-badge.svg\" alt=\"Open In Colab\"/></a>"
      ]
    },
    {
      "cell_type": "markdown",
      "source": [
        "### **Hi, buddies!** (˶˃ ᵕ ˂˶) .ᐟ.ᐟ\n",
        "Welcome to the world of **Python programming**! Get ready to embark on an exciting adventure filled with creativity. So, prepare to create, experiment, and explore the amazing capabilities of Python! This time, we will discuss about **Control Flow**. Let’s start this adventure and create something amazing!"
      ],
      "metadata": {
        "id": "wqRTyooWi6RS"
      }
    },
    {
      "cell_type": "markdown",
      "source": [
        "***Control Flow in Python*** --> Control flow refers to the order in which individual statements, instructions, or function calls are executed in a program. Python provides several control flow statements, including conditional statements, loops, and exception handling."
      ],
      "metadata": {
        "id": "F7KcanhqjGbD"
      }
    },
    {
      "cell_type": "code",
      "execution_count": 1,
      "metadata": {
        "colab": {
          "base_uri": "https://localhost:8080/"
        },
        "id": "fWAMZ1qyiLvn",
        "outputId": "b5f8a46f-b086-4573-86a7-2b4e3b50b021"
      },
      "outputs": [
        {
          "output_type": "stream",
          "name": "stdout",
          "text": [
            "You are an adult.\n"
          ]
        }
      ],
      "source": [
        "# Conditional Statements\n",
        "age = 20\n",
        "\n",
        "if age < 18:\n",
        "    print(\"You are a minor.\")\n",
        "elif age >= 18 and age < 65:\n",
        "    print(\"You are an adult.\")\n",
        "else:\n",
        "    print(\"You are a senior.\")"
      ]
    },
    {
      "cell_type": "code",
      "source": [
        "# Loop\n",
        "fruits = [\"apple\", \"banana\", \"cherry\"]\n",
        "\n",
        "for fruit in fruits:\n",
        "    print(fruit)\n",
        "\n",
        "# While Loop\n",
        "count = 0\n",
        "\n",
        "print( )\n",
        "while count < 3:\n",
        "    print(\"Count:\", count)\n",
        "    count += 1"
      ],
      "metadata": {
        "colab": {
          "base_uri": "https://localhost:8080/"
        },
        "id": "3JBxNRoujbZk",
        "outputId": "68096e6d-484e-4a64-d45a-a32de73b93d1"
      },
      "execution_count": 5,
      "outputs": [
        {
          "output_type": "stream",
          "name": "stdout",
          "text": [
            "apple\n",
            "banana\n",
            "cherry\n",
            "\n",
            "Count: 0\n",
            "Count: 1\n",
            "Count: 2\n"
          ]
        }
      ]
    },
    {
      "cell_type": "code",
      "source": [
        "# Break\n",
        "for num in range(5):\n",
        "    if num == 3:\n",
        "        break\n",
        "    print(num)\n",
        "\n",
        "# Continue\n",
        "print( )\n",
        "for num in range(5):\n",
        "    if num == 3:\n",
        "        continue\n",
        "    print(num)"
      ],
      "metadata": {
        "colab": {
          "base_uri": "https://localhost:8080/"
        },
        "id": "vyVEAk2EjeMi",
        "outputId": "126d2927-3378-420d-e47e-27ff88af3f29"
      },
      "execution_count": 7,
      "outputs": [
        {
          "output_type": "stream",
          "name": "stdout",
          "text": [
            "0\n",
            "1\n",
            "2\n",
            "\n",
            "0\n",
            "1\n",
            "2\n",
            "4\n"
          ]
        }
      ]
    },
    {
      "cell_type": "code",
      "source": [
        "# Exception Handling\n",
        "try:\n",
        "    value = int(input(\"Enter a number: \"))\n",
        "    print(\"You entered:\", value)\n",
        "except ValueError:\n",
        "    print(\"That's not a valid number!\")\n",
        "finally:\n",
        "    print(\"Execution completed.\")\n",
        "\n",
        "# If user enters a valid number, e.g., 10, then the output is \"Execution Completed\".\n",
        "# If user enters an invalid number, e.g., 'abc', then the output is \"That's not a valid number!\"."
      ],
      "metadata": {
        "colab": {
          "base_uri": "https://localhost:8080/"
        },
        "id": "-zoKv7Pbj6dI",
        "outputId": "7d978414-c4df-48fb-957f-7f552104b125"
      },
      "execution_count": 14,
      "outputs": [
        {
          "output_type": "stream",
          "name": "stdout",
          "text": [
            "Enter a number: 3\n",
            "You entered: 3\n",
            "Execution completed.\n"
          ]
        }
      ]
    }
  ]
}