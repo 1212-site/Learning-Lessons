{
  "nbformat": 4,
  "nbformat_minor": 0,
  "metadata": {
    "colab": {
      "provenance": [],
      "authorship_tag": "ABX9TyOzpZtD7YJTlFeckBKuuv3Q",
      "include_colab_link": true
    },
    "kernelspec": {
      "name": "python3",
      "display_name": "Python 3"
    },
    "language_info": {
      "name": "python"
    }
  },
  "cells": [
    {
      "cell_type": "markdown",
      "metadata": {
        "id": "view-in-github",
        "colab_type": "text"
      },
      "source": [
        "<a href=\"https://colab.research.google.com/github/1212-site/Python-Fundamentals/blob/main/3_Data_Structures.ipynb\" target=\"_parent\"><img src=\"https://colab.research.google.com/assets/colab-badge.svg\" alt=\"Open In Colab\"/></a>"
      ]
    },
    {
      "cell_type": "markdown",
      "source": [
        "### **Hi, buddies!** (˶˃ ᵕ ˂˶) .ᐟ.ᐟ\n",
        "Welcome to the world of **Python programming**! Get ready to embark on an exciting adventure filled with creativity. So, prepare to create, experiment, and explore the amazing capabilities of Python! This time, we will discuss about **Data Structures**. Let’s start this adventure and create something amazing!"
      ],
      "metadata": {
        "id": "zo-wQx8rF4cq"
      }
    },
    {
      "cell_type": "code",
      "execution_count": 11,
      "metadata": {
        "colab": {
          "base_uri": "https://localhost:8080/"
        },
        "id": "E7TrxpOqE4-s",
        "outputId": "331e9e86-4cc9-4354-bf1f-e53ddedafb7a"
      },
      "outputs": [
        {
          "output_type": "stream",
          "name": "stdout",
          "text": [
            "1\n",
            "[1, 'two', 3, 'four', 5.0]\n",
            "[1, 'two', 3, 'four', 5.0, 6]\n",
            "[1, 'two', 3, 5.0, 6]\n"
          ]
        }
      ],
      "source": [
        "# Lists\n",
        "\n",
        "# Creating a list\n",
        "my_list = [1, 2, 3, 'four', 5.0]\n",
        "\n",
        "# Accessing elements\n",
        "print(my_list[0])\n",
        "\n",
        "# Modifying elements\n",
        "my_list[1] = 'two'\n",
        "print(my_list)\n",
        "\n",
        "# Adding elements\n",
        "my_list.append(6)\n",
        "print(my_list)\n",
        "\n",
        "# Removing elements\n",
        "my_list.remove('four')\n",
        "print(my_list)"
      ]
    },
    {
      "cell_type": "code",
      "source": [
        "# Tuples\n",
        "\n",
        "# Creating a tuple\n",
        "my_tuple = (1, 2, 3, 'four', 5.0)\n",
        "\n",
        "# Accessing elements\n",
        "print(my_tuple[2])\n",
        "\n",
        "# Tuples cannot be modified\n",
        "# my_tuple[1] = 'two'\n",
        "\n",
        "# Slicing a tuple\n",
        "print(my_tuple[1:4])"
      ],
      "metadata": {
        "colab": {
          "base_uri": "https://localhost:8080/"
        },
        "id": "eUINFGKIGXhU",
        "outputId": "e9a43c5e-2efc-435b-95be-c2b707fea48d"
      },
      "execution_count": 12,
      "outputs": [
        {
          "output_type": "stream",
          "name": "stdout",
          "text": [
            "3\n",
            "(2, 3, 'four')\n"
          ]
        }
      ]
    },
    {
      "cell_type": "code",
      "source": [
        "# Sets\n",
        "\n",
        "# Creating a set\n",
        "my_set = {1, 2, 3, 4, 4, 5}\n",
        "\n",
        "# Output the set\n",
        "print(my_set)\n",
        "\n",
        "# Adding an element\n",
        "my_set.add(6)\n",
        "print(my_set)\n",
        "# Removing an element\n",
        "my_set.remove(3)\n",
        "print(my_set)\n",
        "\n",
        "# Set operations\n",
        "another_set = {4, 5, 6, 7}\n",
        "print(my_set.intersection(another_set))"
      ],
      "metadata": {
        "colab": {
          "base_uri": "https://localhost:8080/"
        },
        "id": "4Xsq_efaGeHt",
        "outputId": "c5aac069-2508-420b-ffba-ca890ee84210"
      },
      "execution_count": 13,
      "outputs": [
        {
          "output_type": "stream",
          "name": "stdout",
          "text": [
            "{1, 2, 3, 4, 5}\n",
            "{1, 2, 3, 4, 5, 6}\n",
            "{1, 2, 4, 5, 6}\n",
            "{4, 5, 6}\n"
          ]
        }
      ]
    },
    {
      "cell_type": "code",
      "source": [
        "# Dictionaries\n",
        "\n",
        "# Creating a dictionary\n",
        "my_dict = {\n",
        "    'name': 'Bambang',\n",
        "    'age': 30,\n",
        "    'city': 'New York'\n",
        "}\n",
        "\n",
        "# Accessing values\n",
        "print(my_dict['name'])\n",
        "\n",
        "# Modifying values\n",
        "my_dict['age'] = 26\n",
        "print(my_dict)\n",
        "\n",
        "# Adding a new key-value pair\n",
        "my_dict['profession'] = 'Engineer'\n",
        "print(my_dict)\n",
        "\n",
        "# Removing a key-value pair\n",
        "del my_dict['city']\n",
        "print(my_dict)"
      ],
      "metadata": {
        "colab": {
          "base_uri": "https://localhost:8080/"
        },
        "id": "yMuxSP8dGfrH",
        "outputId": "2eb7866a-bf73-4d62-f3f0-40e8eb8d9cd3"
      },
      "execution_count": 14,
      "outputs": [
        {
          "output_type": "stream",
          "name": "stdout",
          "text": [
            "Bambang\n",
            "{'name': 'Bambang', 'age': 26, 'city': 'New York'}\n",
            "{'name': 'Bambang', 'age': 26, 'city': 'New York', 'profession': 'Engineer'}\n",
            "{'name': 'Bambang', 'age': 26, 'profession': 'Engineer'}\n"
          ]
        }
      ]
    }
  ]
}