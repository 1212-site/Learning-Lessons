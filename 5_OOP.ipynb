{
  "nbformat": 4,
  "nbformat_minor": 0,
  "metadata": {
    "colab": {
      "provenance": [],
      "authorship_tag": "ABX9TyMyzJfngTgePs17quBWsoDY",
      "include_colab_link": true
    },
    "kernelspec": {
      "name": "python3",
      "display_name": "Python 3"
    },
    "language_info": {
      "name": "python"
    }
  },
  "cells": [
    {
      "cell_type": "markdown",
      "metadata": {
        "id": "view-in-github",
        "colab_type": "text"
      },
      "source": [
        "<a href=\"https://colab.research.google.com/github/1212-site/Python-Fundamentals/blob/main/5_OOP.ipynb\" target=\"_parent\"><img src=\"https://colab.research.google.com/assets/colab-badge.svg\" alt=\"Open In Colab\"/></a>"
      ]
    },
    {
      "cell_type": "markdown",
      "source": [
        "### **Hi, buddies!** (˶˃ ᵕ ˂˶) .ᐟ.ᐟ\n",
        "Welcome to the world of **Python programming**! Get ready to embark on an exciting adventure filled with creativity. So, prepare to create, experiment, and explore the amazing capabilities of Python! This time, we will discuss about **Object-Oriented Programming**. Let’s start this adventure and create something amazing!"
      ],
      "metadata": {
        "id": "InQH8UEoha5w"
      }
    },
    {
      "cell_type": "markdown",
      "source": [
        "***OOP*** --> OOP is a programming paradigm that uses \"objects\" to represent data and methods to manipulate that data. The main concepts of OOP is Classes and Objects, Encapsulation, Inheritance, and Polymorphism."
      ],
      "metadata": {
        "id": "vOnfbbvyhjGZ"
      }
    },
    {
      "cell_type": "code",
      "source": [
        "# Classes and Objects\n",
        "class Cat:\n",
        "    def __init__(self, name, age):\n",
        "        self.name = name\n",
        "        self.age = age\n",
        "\n",
        "    def meows(self):\n",
        "        return \"Miaw!\"\n",
        "\n",
        "# Creating an object of the Dog class\n",
        "my_Cat = Cat(\"Miso\", 1)\n",
        "\n",
        "print(f\"My cat's name is {my_Cat.name} and he is {my_Cat.age} years old.\")\n",
        "print(my_Cat.meows())"
      ],
      "metadata": {
        "colab": {
          "base_uri": "https://localhost:8080/"
        },
        "id": "LePzVOX7hiIt",
        "outputId": "6a3297a3-a0eb-4d91-8359-c77d747e8050"
      },
      "execution_count": 4,
      "outputs": [
        {
          "output_type": "stream",
          "name": "stdout",
          "text": [
            "My cat's name is Miso and he is 1 years old.\n",
            "Miaw!\n"
          ]
        }
      ]
    },
    {
      "cell_type": "code",
      "execution_count": 5,
      "metadata": {
        "colab": {
          "base_uri": "https://localhost:8080/"
        },
        "id": "6_OAE5g5hNU9",
        "outputId": "844d8191-d29c-4e97-bf65-50f7dea43651"
      },
      "outputs": [
        {
          "output_type": "stream",
          "name": "stdout",
          "text": [
            "Current balance: $1500\n",
            "Current balance: $1200\n"
          ]
        }
      ],
      "source": [
        "# Encapsulation\n",
        "class BankAccount:\n",
        "    def __init__(self, balance):\n",
        "        self.__balance = balance  # private attribute\n",
        "\n",
        "    def deposit(self, amount):\n",
        "        self.__balance += amount\n",
        "\n",
        "    def withdraw(self, amount):\n",
        "        if amount <= self.__balance:\n",
        "            self.__balance -= amount\n",
        "        else:\n",
        "            return \"Insufficient funds.\"\n",
        "\n",
        "    def get_balance(self):\n",
        "        return self.__balance\n",
        "\n",
        "# Using the BankAccount class\n",
        "account = BankAccount(1000)\n",
        "account.deposit(500)\n",
        "print(f\"Current balance: ${account.get_balance()}\")\n",
        "account.withdraw(300)\n",
        "print(f\"Current balance: ${account.get_balance()}\")"
      ]
    },
    {
      "cell_type": "code",
      "source": [
        "# Inheritance\n",
        "class Animal:\n",
        "    def speak(self):\n",
        "        return \"Animal speaks\"\n",
        "\n",
        "class Cat(Animal):\n",
        "    def speak(self):\n",
        "        return \"Miaw!\"\n",
        "\n",
        "# Creating an object of the Cat class\n",
        "my_cat = Cat()\n",
        "print(my_cat.speak())"
      ],
      "metadata": {
        "colab": {
          "base_uri": "https://localhost:8080/"
        },
        "id": "vdSndrZ6kUop",
        "outputId": "84a6d737-87dc-41ae-9f40-4dcc6af49f38"
      },
      "execution_count": 7,
      "outputs": [
        {
          "output_type": "stream",
          "name": "stdout",
          "text": [
            "Miaw!\n"
          ]
        }
      ]
    },
    {
      "cell_type": "code",
      "source": [
        "# Polymorphism\n",
        "class Bird:\n",
        "    def speak(self):\n",
        "        return \"Chirp!\"\n",
        "\n",
        "class Cat:\n",
        "    def speak(self):\n",
        "        return \"Miaw!\"\n",
        "\n",
        "def animal_sound(animal):\n",
        "    print(animal.speak())\n",
        "\n",
        "# Using polymorphism\n",
        "my_bird = Bird()\n",
        "my_cat = Cat()\n",
        "animal_sound(my_bird)\n",
        "animal_sound(my_cat)"
      ],
      "metadata": {
        "colab": {
          "base_uri": "https://localhost:8080/"
        },
        "id": "L66pigU4ka2c",
        "outputId": "9be2f197-1ec6-469b-9609-8d4f41977b55"
      },
      "execution_count": 8,
      "outputs": [
        {
          "output_type": "stream",
          "name": "stdout",
          "text": [
            "Chirp!\n",
            "Miaw!\n"
          ]
        }
      ]
    }
  ]
}