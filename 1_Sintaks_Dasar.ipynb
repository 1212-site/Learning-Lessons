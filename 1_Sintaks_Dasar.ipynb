{
  "nbformat": 4,
  "nbformat_minor": 0,
  "metadata": {
    "colab": {
      "provenance": [],
      "authorship_tag": "ABX9TyNQ6rAvG475XRGrYzLPWZBW",
      "include_colab_link": true
    },
    "kernelspec": {
      "name": "python3",
      "display_name": "Python 3"
    },
    "language_info": {
      "name": "python"
    }
  },
  "cells": [
    {
      "cell_type": "markdown",
      "metadata": {
        "id": "view-in-github",
        "colab_type": "text"
      },
      "source": [
        "<a href=\"https://colab.research.google.com/github/1212-site/Learning-Lessons/blob/main/1_Sintaks_Dasar.ipynb\" target=\"_parent\"><img src=\"https://colab.research.google.com/assets/colab-badge.svg\" alt=\"Open In Colab\"/></a>"
      ]
    },
    {
      "cell_type": "markdown",
      "source": [
        "### **Hai, buddies!** (˶˃ ᵕ ˂˶) .ᐟ.ᐟ\n",
        "Selamat datang di dunia pemrograman Python! Siap-siap untuk memasuki petualangan yang menarik dan penuh kreativitas. Jadi, bersiaplah untuk berkreasi, bereksperimen, dan menjelajahi kemampuan luar biasa pada Python! Kali ini akan membahas tentang **Sintaks Dasar**. Ayo mulai petualangan ini dan buatlah karya yang menakjubkan!\n",
        "\n"
      ],
      "metadata": {
        "id": "Fjj4Gsxlm_rx"
      }
    },
    {
      "cell_type": "code",
      "execution_count": 1,
      "metadata": {
        "id": "tj_-SMygmTid",
        "colab": {
          "base_uri": "https://localhost:8080/"
        },
        "outputId": "9fe060b7-8c76-49a0-ad9e-467f91ccc6b6"
      },
      "outputs": [
        {
          "output_type": "stream",
          "name": "stdout",
          "text": [
            "Hello, World!\n"
          ]
        }
      ],
      "source": [
        "# Menjalankan perintah\n",
        "print(\"Hello, World!\")"
      ]
    },
    {
      "cell_type": "code",
      "source": [
        "# Variabel\n",
        "x = 10            # Integer\n",
        "y = 3.14          # Float\n",
        "name = \"Python\"   # String\n",
        "is_active = True  # Boolean"
      ],
      "metadata": {
        "id": "W59EJg9GoQw6"
      },
      "execution_count": 4,
      "outputs": []
    },
    {
      "cell_type": "code",
      "source": [
        "# Tipe Data\n",
        "age = 25            # Integer\n",
        "height = 1.75       # Float\n",
        "greeting = \"Hello\"  # String\n",
        "is_student = False  # Boolean"
      ],
      "metadata": {
        "id": "-ykZZCTtojXS"
      },
      "execution_count": 3,
      "outputs": []
    },
    {
      "cell_type": "code",
      "source": [
        "# Operator\n",
        "a = 10\n",
        "b = 5\n",
        "\n",
        "result = {\n",
        "\"sum_result\" : a + b,   # Penjumlahan\n",
        "\"sub_result\" : a - b,   # Pengurangan\n",
        "\"mul_result\" : a * b,   # Perkalian\n",
        "\"div_result\" : a / b    # Pembagian\n",
        "}\n",
        "\n",
        "print(result)"
      ],
      "metadata": {
        "colab": {
          "base_uri": "https://localhost:8080/"
        },
        "id": "g3JxbOIioxr-",
        "outputId": "c306795b-7a30-4a68-fbee-a96cc046169e"
      },
      "execution_count": 9,
      "outputs": [
        {
          "output_type": "stream",
          "name": "stdout",
          "text": [
            "{'sum_result': 15, 'sub_result': 5, 'mul_result': 50, 'div_result': 2.0}\n"
          ]
        }
      ]
    },
    {
      "cell_type": "code",
      "source": [
        "# Kontrol Alur\n",
        "# If\n",
        "age = 20\n",
        "\n",
        "if age >= 18:\n",
        "    print(\"Dewasa\")\n",
        "else:\n",
        "  print(\"Anak-anak\")\n",
        "\n",
        "# Loop\n",
        "for i in range(5):\n",
        "    print(i)\n",
        "\n",
        "# While Loop\n",
        "count = 0\n",
        "while count < 5:\n",
        "    print(count)\n",
        "    count += 1"
      ],
      "metadata": {
        "colab": {
          "base_uri": "https://localhost:8080/"
        },
        "id": "7moWTgyDpXVz",
        "outputId": "1b93c318-d6cd-4532-90de-6a8e28c243a2"
      },
      "execution_count": 15,
      "outputs": [
        {
          "output_type": "stream",
          "name": "stdout",
          "text": [
            "Dewasa\n",
            "0\n",
            "1\n",
            "2\n",
            "3\n",
            "4\n",
            "0\n",
            "1\n",
            "2\n",
            "3\n",
            "4\n"
          ]
        }
      ]
    },
    {
      "cell_type": "code",
      "source": [
        "# Fungsi\n",
        "def greet(name):\n",
        "    return f\"Hello, {name}!\"\n",
        "\n",
        "message = greet(\"Alice\")\n",
        "print(message)"
      ],
      "metadata": {
        "colab": {
          "base_uri": "https://localhost:8080/"
        },
        "id": "mDGG7kLghXDi",
        "outputId": "db00490c-0bd0-44aa-8eec-f30292d78582"
      },
      "execution_count": 17,
      "outputs": [
        {
          "output_type": "stream",
          "name": "stdout",
          "text": [
            "Hello, Alice!\n"
          ]
        }
      ]
    },
    {
      "cell_type": "code",
      "source": [
        "# List\n",
        "fruits = [\"apple\", \"banana\", \"cherry\"]\n",
        "print(fruits[0])"
      ],
      "metadata": {
        "colab": {
          "base_uri": "https://localhost:8080/"
        },
        "id": "gR6vuJ2QrrRo",
        "outputId": "4f8a9d9d-9a27-4be0-8a75-08ed11526563"
      },
      "execution_count": 18,
      "outputs": [
        {
          "output_type": "stream",
          "name": "stdout",
          "text": [
            "apple\n"
          ]
        }
      ]
    },
    {
      "cell_type": "code",
      "source": [
        "# Looping di List\n",
        "for fruit in fruits:\n",
        "  print(fruit)"
      ],
      "metadata": {
        "colab": {
          "base_uri": "https://localhost:8080/"
        },
        "id": "m08E5J-9r0vx",
        "outputId": "6562cd6c-fea9-40f3-d1ec-ba3b285fd99c"
      },
      "execution_count": 20,
      "outputs": [
        {
          "output_type": "stream",
          "name": "stdout",
          "text": [
            "apple\n",
            "banana\n",
            "cherry\n"
          ]
        }
      ]
    },
    {
      "cell_type": "code",
      "source": [
        "# Exception Handling\n",
        "try:\n",
        "  result = 10/0\n",
        "except ZeroDivisionError:\n",
        "  print(\"Tidak bisa membagi dengan nol.\")"
      ],
      "metadata": {
        "colab": {
          "base_uri": "https://localhost:8080/"
        },
        "id": "uwWq23XDr8wH",
        "outputId": "44c97afd-8f7f-43f0-ae6c-2d983f094f75"
      },
      "execution_count": 21,
      "outputs": [
        {
          "output_type": "stream",
          "name": "stdout",
          "text": [
            "Tidak bisa membagi dengan nol.\n"
          ]
        }
      ]
    },
    {
      "cell_type": "code",
      "source": [
        "# Modul\n",
        "import math\n",
        "print(math.sqrt(16))"
      ],
      "metadata": {
        "colab": {
          "base_uri": "https://localhost:8080/"
        },
        "id": "8EBT45lRsIV8",
        "outputId": "6b755f9a-79ea-4ab3-f35a-c1a6946e7cbe"
      },
      "execution_count": 22,
      "outputs": [
        {
          "output_type": "stream",
          "name": "stdout",
          "text": [
            "4.0\n"
          ]
        }
      ]
    }
  ]
}